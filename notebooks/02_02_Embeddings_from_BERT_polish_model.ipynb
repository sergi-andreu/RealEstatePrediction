{
 "cells": [
  {
   "cell_type": "markdown",
   "metadata": {},
   "source": [
    "# Get features from a pre-trained BERT Transformer model\n",
    "The model card can be found here: https://huggingface.co/dkleczek/bert-base-polish-cased-v1"
   ]
  },
  {
   "cell_type": "code",
   "execution_count": 1,
   "metadata": {},
   "outputs": [],
   "source": [
    "import torch\n",
    "import numpy as np\n",
    "import tqdm"
   ]
  },
  {
   "cell_type": "markdown",
   "metadata": {},
   "source": [
    "## Load the model"
   ]
  },
  {
   "cell_type": "code",
   "execution_count": 2,
   "metadata": {},
   "outputs": [
    {
     "name": "stderr",
     "output_type": "stream",
     "text": [
      "c:\\Users\\sergi\\anaconda3\\envs\\olx\\Lib\\site-packages\\tqdm\\auto.py:21: TqdmWarning: IProgress not found. Please update jupyter and ipywidgets. See https://ipywidgets.readthedocs.io/en/stable/user_install.html\n",
      "  from .autonotebook import tqdm as notebook_tqdm\n"
     ]
    }
   ],
   "source": [
    "from transformers import BertModel, BertTokenizer\n",
    "\n",
    "model_name = \"dkleczek/bert-base-polish-uncased-v1\"\n",
    "\n",
    "tokenizer =  BertTokenizer.from_pretrained(\"dkleczek/bert-base-polish-uncased-v1\")\n",
    "model = BertModel.from_pretrained(\"dkleczek/bert-base-polish-uncased-v1\")"
   ]
  },
  {
   "cell_type": "markdown",
   "metadata": {},
   "source": [
    "## Use the uncased version\n",
    "This decision is made because I needed to make a decision (hehe).\n",
    "I could compare case / uncased but, for time constraints, I use the uncased version.\n",
    "\n",
    "The main reason for going towards the uncased version is because of the reduced model size and complexity."
   ]
  },
  {
   "cell_type": "markdown",
   "metadata": {},
   "source": [
    "### Do a simple test"
   ]
  },
  {
   "cell_type": "code",
   "execution_count": 3,
   "metadata": {},
   "outputs": [],
   "source": [
    "input_text = \"This is not polish but still should work. right?\"\n",
    "inputs = tokenizer(input_text, return_tensors=\"pt\") # \"pt\" means returning the pytorch tensor"
   ]
  },
  {
   "cell_type": "markdown",
   "metadata": {},
   "source": [
    "### Compute the embeddings"
   ]
  },
  {
   "cell_type": "code",
   "execution_count": 4,
   "metadata": {},
   "outputs": [],
   "source": [
    "with torch.no_grad(): # we don't need gradient for this\n",
    "    outputs = model(**inputs)\n",
    "    embeddings = outputs.last_hidden_state\n",
    "# embeddings is a tensor of shape (batch_size, sequence_length, hidden_size)\n",
    "# the 'embeddings' variable not contains the embeddings for each token in the input text"
   ]
  },
  {
   "cell_type": "code",
   "execution_count": 5,
   "metadata": {},
   "outputs": [
    {
     "data": {
      "text/plain": [
       "tensor([[[-1.0544,  0.5917,  0.8397,  ..., -0.6307,  0.2327, -0.4002],\n",
       "         [-1.3133, -0.0392, -1.0398,  ..., -0.2068, -0.1923, -0.1468],\n",
       "         [-0.2293,  0.9394, -0.8461,  ..., -0.6320,  1.1495, -0.7087],\n",
       "         ...,\n",
       "         [-1.5325,  0.3075, -0.1446,  ..., -0.1709, -0.5319,  1.0088],\n",
       "         [-1.4722,  0.5275,  0.7635,  ..., -1.1831, -1.2890, -0.3788],\n",
       "         [-0.1530,  0.4941, -0.3130,  ..., -0.4510, -0.1730,  0.0717]]])"
      ]
     },
     "execution_count": 5,
     "metadata": {},
     "output_type": "execute_result"
    }
   ],
   "source": [
    "embeddings"
   ]
  },
  {
   "cell_type": "markdown",
   "metadata": {},
   "source": [
    "### Transform to sentence embeddings\n",
    "Here there are some alternatives.\n",
    "The two most basic ones are getting the mean or max pooling.\n",
    "\n",
    "Mean pooling may provide a smoother representetion and be less sensitive to outliers, but may dilute important tokens.\n",
    "Max pooling may highlight important features and focus on key tokens, but would be more sensitive to outliers.\n",
    "\n",
    "It seems to me that mean pooling could work good for titles, and max pooling for descriptions.\n",
    "But one should test both and see which gives better results."
   ]
  },
  {
   "cell_type": "code",
   "execution_count": 6,
   "metadata": {},
   "outputs": [],
   "source": [
    "def get_sentence_embeddings_from_word_embeddings(word_embeddings, method=\"mean\"):\n",
    "    if method == \"mean\":\n",
    "        return word_embeddings.mean(dim=1)\n",
    "    elif method == \"max\":\n",
    "        return word_embeddings.max(dim=1).values # max is returning both the max values and the indices of the max values. We only want the max values\n",
    "    else:\n",
    "        raise ValueError(f\"Method {method} not supported. Please use 'mean' or 'max'.\")"
   ]
  },
  {
   "cell_type": "code",
   "execution_count": 7,
   "metadata": {},
   "outputs": [
    {
     "name": "stdout",
     "output_type": "stream",
     "text": [
      "(1, 768)\n"
     ]
    }
   ],
   "source": [
    "sentence_embeddings = get_sentence_embeddings_from_word_embeddings(embeddings)\n",
    "print(np.shape(sentence_embeddings.numpy()))"
   ]
  },
  {
   "cell_type": "markdown",
   "metadata": {},
   "source": [
    "## Import custom library for computing the embeddings\n",
    "From the above code, we refactor it to a quite simple class, and import it"
   ]
  },
  {
   "cell_type": "code",
   "execution_count": 8,
   "metadata": {},
   "outputs": [],
   "source": [
    "import sys, os \n",
    "sys.path.append(os.getcwd() + \"/../src\")\n",
    "\n",
    "from BERT_embeddings import BERTEmbeddings"
   ]
  },
  {
   "cell_type": "code",
   "execution_count": 9,
   "metadata": {},
   "outputs": [],
   "source": [
    "bert_embeddings = BERTEmbeddings()"
   ]
  },
  {
   "cell_type": "markdown",
   "metadata": {},
   "source": [
    "### Load the data"
   ]
  },
  {
   "cell_type": "code",
   "execution_count": 10,
   "metadata": {},
   "outputs": [
    {
     "data": {
      "text/html": [
       "<div>\n",
       "<style scoped>\n",
       "    .dataframe tbody tr th:only-of-type {\n",
       "        vertical-align: middle;\n",
       "    }\n",
       "\n",
       "    .dataframe tbody tr th {\n",
       "        vertical-align: top;\n",
       "    }\n",
       "\n",
       "    .dataframe thead th {\n",
       "        text-align: right;\n",
       "    }\n",
       "</style>\n",
       "<table border=\"1\" class=\"dataframe\">\n",
       "  <thead>\n",
       "    <tr style=\"text-align: right;\">\n",
       "      <th></th>\n",
       "      <th>standard_cbrt_price_per_m</th>\n",
       "    </tr>\n",
       "  </thead>\n",
       "  <tbody>\n",
       "    <tr>\n",
       "      <th>0</th>\n",
       "      <td>-1.418692</td>\n",
       "    </tr>\n",
       "    <tr>\n",
       "      <th>1</th>\n",
       "      <td>-0.950694</td>\n",
       "    </tr>\n",
       "    <tr>\n",
       "      <th>2</th>\n",
       "      <td>-1.677240</td>\n",
       "    </tr>\n",
       "    <tr>\n",
       "      <th>3</th>\n",
       "      <td>-0.346889</td>\n",
       "    </tr>\n",
       "    <tr>\n",
       "      <th>4</th>\n",
       "      <td>-0.268792</td>\n",
       "    </tr>\n",
       "    <tr>\n",
       "      <th>...</th>\n",
       "      <td>...</td>\n",
       "    </tr>\n",
       "    <tr>\n",
       "      <th>73640</th>\n",
       "      <td>-0.270301</td>\n",
       "    </tr>\n",
       "    <tr>\n",
       "      <th>73641</th>\n",
       "      <td>-0.517942</td>\n",
       "    </tr>\n",
       "    <tr>\n",
       "      <th>73642</th>\n",
       "      <td>-0.952708</td>\n",
       "    </tr>\n",
       "    <tr>\n",
       "      <th>73643</th>\n",
       "      <td>-0.775382</td>\n",
       "    </tr>\n",
       "    <tr>\n",
       "      <th>73644</th>\n",
       "      <td>-0.953949</td>\n",
       "    </tr>\n",
       "  </tbody>\n",
       "</table>\n",
       "<p>73645 rows × 1 columns</p>\n",
       "</div>"
      ],
      "text/plain": [
       "       standard_cbrt_price_per_m\n",
       "0                      -1.418692\n",
       "1                      -0.950694\n",
       "2                      -1.677240\n",
       "3                      -0.346889\n",
       "4                      -0.268792\n",
       "...                          ...\n",
       "73640                  -0.270301\n",
       "73641                  -0.517942\n",
       "73642                  -0.952708\n",
       "73643                  -0.775382\n",
       "73644                  -0.953949\n",
       "\n",
       "[73645 rows x 1 columns]"
      ]
     },
     "execution_count": 10,
     "metadata": {},
     "output_type": "execute_result"
    }
   ],
   "source": [
    "from data_preprocessing import DataPreprocessing\n",
    "\n",
    "dp = DataPreprocessing(df_path=\"../data/real_estate_ads_2022_10.csv\", \n",
    "                       train_indices_path=\"../data/train_indices.npy\", \n",
    "                       test_indices_path=\"../data/test_indices.npy\")\n",
    "\n",
    "dp.Y"
   ]
  },
  {
   "cell_type": "markdown",
   "metadata": {},
   "source": [
    "### Get maximum (tokenized) lengths for titles and description"
   ]
  },
  {
   "cell_type": "code",
   "execution_count": 11,
   "metadata": {},
   "outputs": [
    {
     "data": {
      "text/plain": [
       "(50, 18692)"
      ]
     },
     "execution_count": 11,
     "metadata": {},
     "output_type": "execute_result"
    }
   ],
   "source": [
    "max_title_length = dp.X[\"title\"].apply(lambda x: len(x) if isinstance(x,str) else 0).max()\n",
    "max_description_length = dp.X[\"description\"].apply(lambda x: len(x) if isinstance(x,str) else 0).max()\n",
    "\n",
    "max_title_length, max_description_length"
   ]
  },
  {
   "cell_type": "code",
   "execution_count": 12,
   "metadata": {},
   "outputs": [
    {
     "data": {
      "text/plain": [
       "<Axes: >"
      ]
     },
     "execution_count": 12,
     "metadata": {},
     "output_type": "execute_result"
    },
    {
     "data": {
      "image/png": "[encoded data removed]",
      "text/plain": [
       "<Figure size 640x480 with 1 Axes>"
      ]
     },
     "metadata": {},
     "output_type": "display_data"
    }
   ],
   "source": [
    "dp.X[\"description\"].apply(lambda x: len(x) if isinstance(x,str) else 0).hist()"
   ]
  },
  {
   "cell_type": "markdown",
   "metadata": {},
   "source": [
    "We could use some truncation (truncation=True, max_length=something) for the tokenizer, to make it more efficient\n",
    "However, token length is not the same as character length.\n",
    "One should repeat this process, by applying the tokenizer.\n",
    "\n",
    "The default value is 512 tokens, which correspond to approximately 2500 characters (although one should check this for polish, for this specific tokenizer)"
   ]
  },
  {
   "cell_type": "markdown",
   "metadata": {},
   "source": [
    "### Compute the embeddings for the titles\n",
    "\n",
    "This could be made more efficient by converting titles into numpy, and batching appropiately.\n",
    "\n",
    "For ease in the implementation, I just use the apply pandas method (the progress_apply is just to get progress)"
   ]
  },
  {
   "cell_type": "code",
   "execution_count": 13,
   "metadata": {},
   "outputs": [
    {
     "data": {
      "text/plain": [
       "'\\ntqdm.tqdm.pandas()\\ntitles = dp.X[\"title\"].apply(lambda x: str(x))\\nsentence_embeddings = titles.progress_apply(lambda x: bert_embeddings.get_sentence_embeddings(x))\\n'"
      ]
     },
     "execution_count": 13,
     "metadata": {},
     "output_type": "execute_result"
    }
   ],
   "source": [
    "\"\"\"\n",
    "tqdm.tqdm.pandas()\n",
    "titles = dp.X[\"title\"].apply(lambda x: str(x))\n",
    "sentence_embeddings = titles.progress_apply(lambda x: bert_embeddings.get_sentence_embeddings(x))\n",
    "\"\"\""
   ]
  },
  {
   "cell_type": "markdown",
   "metadata": {},
   "source": [
    "Too slow unfortunately... trying out some batching for pandas.\n",
    "Of course, enabling GPU is better. But I don't have CUDA in this maching :()"
   ]
  },
  {
   "cell_type": "code",
   "execution_count": 17,
   "metadata": {},
   "outputs": [
    {
     "name": "stderr",
     "output_type": "stream",
     "text": [
      "100%|██████████| 74/74 [38:52<00:00, 31.52s/it]\n"
     ]
    }
   ],
   "source": [
    "titles = dp.X[\"title\"].apply(lambda x: str(x))\n",
    "titles = titles.to_list()\n",
    "\n",
    "batch_size = 1000\n",
    "\n",
    "sentence_embeddings = []\n",
    "\n",
    "for i in tqdm.tqdm(range(0, len(titles), batch_size)):\n",
    "    batch = titles[i:i+batch_size]\n",
    "    embeddings = bert_embeddings.get_sentence_embeddings(batch)\n",
    "    torch.save(embeddings, f\"../data/bert_embeddings/title_embeddings_batch_size_{batch_size}_{i}.pt\")"
   ]
  },
  {
   "cell_type": "code",
   "execution_count": 20,
   "metadata": {},
   "outputs": [
    {
     "name": "stderr",
     "output_type": "stream",
     "text": [
      "  0%|          | 0/74 [01:12<?, ?it/s]\n"
     ]
    }
   ],
   "source": [
    "descriptions = dp.X[\"description\"].apply(lambda x: str(x))\n",
    "descriptions = descriptions.to_list()\n",
    "\n",
    "batch_size = 200\n",
    "\n",
    "for i in tqdm.tqdm(range(0, len(titles), batch_size)):\n",
    "    batch = descriptions[i:i+batch_size]\n",
    "    embeddings = bert_embeddings.get_sentence_embeddings(batch)\n",
    "    torch.save(embeddings, f\"../data/bert_embeddings/description_embeddings_batch_size_{batch_size}_{i}.pt\")"
   ]
  },
  {
   "cell_type": "markdown",
   "metadata": {},
   "source": [
    "Still slow :( :(((  I wish I had CUDA here.\n",
    "\n",
    "I could install some intel extensions for improved CPU performance, but most seem to be only for Linux.\n",
    "Some options are quantizing the model, finding smaller models, etc"
   ]
  }
 ],
 "metadata": {
  "kernelspec": {
   "display_name": "olx",
   "language": "python",
   "name": "python3"
  },
  "language_info": {
   "codemirror_mode": {
    "name": "ipython",
    "version": 3
   },
   "file_extension": ".py",
   "mimetype": "text/x-python",
   "name": "python",
   "nbconvert_exporter": "python",
   "pygments_lexer": "ipython3",
   "version": "3.12.4"
  }
 },
 "nbformat": 4,
 "nbformat_minor": 2
}
