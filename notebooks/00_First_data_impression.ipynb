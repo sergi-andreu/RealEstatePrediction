{
 "cells": [
  {
   "cell_type": "code",
   "execution_count": 1,
   "metadata": {},
   "outputs": [],
   "source": [
    "import pandas as pd\n",
    "import matplotlib.pyplot as plt\n",
    "import seaborn as sns"
   ]
  },
  {
   "cell_type": "code",
   "execution_count": 2,
   "metadata": {},
   "outputs": [
    {
     "data": {
      "text/html": [
       "<div>\n",
       "<style scoped>\n",
       "    .dataframe tbody tr th:only-of-type {\n",
       "        vertical-align: middle;\n",
       "    }\n",
       "\n",
       "    .dataframe tbody tr th {\n",
       "        vertical-align: top;\n",
       "    }\n",
       "\n",
       "    .dataframe thead th {\n",
       "        text-align: right;\n",
       "    }\n",
       "</style>\n",
       "<table border=\"1\" class=\"dataframe\">\n",
       "  <thead>\n",
       "    <tr style=\"text-align: right;\">\n",
       "      <th></th>\n",
       "      <th>id</th>\n",
       "      <th>market</th>\n",
       "      <th>created_at_first</th>\n",
       "      <th>updated_at</th>\n",
       "      <th>district_lon</th>\n",
       "      <th>district_lat</th>\n",
       "      <th>title</th>\n",
       "      <th>description</th>\n",
       "      <th>params</th>\n",
       "      <th>price</th>\n",
       "      <th>no_rooms</th>\n",
       "      <th>m</th>\n",
       "      <th>price_per_m</th>\n",
       "      <th>map_lon</th>\n",
       "      <th>map_lat</th>\n",
       "    </tr>\n",
       "  </thead>\n",
       "  <tbody>\n",
       "    <tr>\n",
       "      <th>0</th>\n",
       "      <td>58668640</td>\n",
       "      <td>secondary</td>\n",
       "      <td>2019-04-09 16:12:54.000</td>\n",
       "      <td>2019-04-15 18:54:38.000</td>\n",
       "      <td>16.90502</td>\n",
       "      <td>52.41180</td>\n",
       "      <td>Mieszkanie z potencjałem. Rynek Jeżycki.</td>\n",
       "      <td>&lt;p&gt;Zapraszam do zakupu mieszkania zlokalizowan...</td>\n",
       "      <td>price&lt;=&gt;price&lt;br&gt;price&lt;=&gt;260000&lt;br&gt;price[curre...</td>\n",
       "      <td>260000.0</td>\n",
       "      <td>2</td>\n",
       "      <td>51.00</td>\n",
       "      <td>5098.04</td>\n",
       "      <td>16.896592</td>\n",
       "      <td>52.410150</td>\n",
       "    </tr>\n",
       "    <tr>\n",
       "      <th>1</th>\n",
       "      <td>58887800</td>\n",
       "      <td>secondary</td>\n",
       "      <td>2019-04-25 17:20:01.000</td>\n",
       "      <td>2019-05-27 11:36:14.000</td>\n",
       "      <td>16.87466</td>\n",
       "      <td>52.41572</td>\n",
       "      <td>Okazja Jeżyce!!!!!</td>\n",
       "      <td>&lt;p&gt;Polecam na sprzedaż mieszkanie kawalerka o ...</td>\n",
       "      <td>price&lt;=&gt;price&lt;br&gt;price&lt;=&gt;155000&lt;br&gt;price[curre...</td>\n",
       "      <td>155000.0</td>\n",
       "      <td>1</td>\n",
       "      <td>26.00</td>\n",
       "      <td>5961.54</td>\n",
       "      <td>16.904410</td>\n",
       "      <td>52.411919</td>\n",
       "    </tr>\n",
       "    <tr>\n",
       "      <th>2</th>\n",
       "      <td>55129916</td>\n",
       "      <td>secondary</td>\n",
       "      <td>2018-08-02 16:40:35.000</td>\n",
       "      <td>2021-11-28 01:56:53.000</td>\n",
       "      <td>16.90502</td>\n",
       "      <td>52.41180</td>\n",
       "      <td>**Okazja * 60,1m2 * 3 pokoje * poddasze * Jeży...</td>\n",
       "      <td>&lt;p&gt;  **Przestronne mieszkanie 3 pokojowe * na ...</td>\n",
       "      <td>price&lt;=&gt;price&lt;br&gt;price&lt;=&gt;280000&lt;br&gt;price[curre...</td>\n",
       "      <td>280000.0</td>\n",
       "      <td>3</td>\n",
       "      <td>60.10</td>\n",
       "      <td>4658.90</td>\n",
       "      <td>16.899310</td>\n",
       "      <td>52.413357</td>\n",
       "    </tr>\n",
       "    <tr>\n",
       "      <th>3</th>\n",
       "      <td>60011531</td>\n",
       "      <td>secondary</td>\n",
       "      <td>2019-12-05 12:45:49.000</td>\n",
       "      <td>2020-01-15 16:05:42.000</td>\n",
       "      <td>16.87466</td>\n",
       "      <td>52.41572</td>\n",
       "      <td>Mieszkanie 2-pokojowe, Ogrody, Kampus Uam</td>\n",
       "      <td>&lt;p&gt;Serdecznie zapraszam do zapoznania się z of...</td>\n",
       "      <td>price&lt;=&gt;price&lt;br&gt;price&lt;=&gt;339000&lt;br&gt;price[curre...</td>\n",
       "      <td>339000.0</td>\n",
       "      <td>2</td>\n",
       "      <td>47.00</td>\n",
       "      <td>7212.77</td>\n",
       "      <td>16.883608</td>\n",
       "      <td>52.410662</td>\n",
       "    </tr>\n",
       "    <tr>\n",
       "      <th>4</th>\n",
       "      <td>60096194</td>\n",
       "      <td>secondary</td>\n",
       "      <td>2020-01-10 14:53:19.000</td>\n",
       "      <td>2020-02-13 15:25:07.000</td>\n",
       "      <td>16.87466</td>\n",
       "      <td>52.41572</td>\n",
       "      <td>Jeżyce 2 pokoje</td>\n",
       "      <td>&lt;p&gt;Polecam na sprzedaż mieszkanie z komórka lo...</td>\n",
       "      <td>price&lt;=&gt;price&lt;br&gt;price&lt;=&gt;325000&lt;br&gt;price[curre...</td>\n",
       "      <td>325000.0</td>\n",
       "      <td>2</td>\n",
       "      <td>44.00</td>\n",
       "      <td>7386.36</td>\n",
       "      <td>16.890796</td>\n",
       "      <td>52.412308</td>\n",
       "    </tr>\n",
       "    <tr>\n",
       "      <th>...</th>\n",
       "      <td>...</td>\n",
       "      <td>...</td>\n",
       "      <td>...</td>\n",
       "      <td>...</td>\n",
       "      <td>...</td>\n",
       "      <td>...</td>\n",
       "      <td>...</td>\n",
       "      <td>...</td>\n",
       "      <td>...</td>\n",
       "      <td>...</td>\n",
       "      <td>...</td>\n",
       "      <td>...</td>\n",
       "      <td>...</td>\n",
       "      <td>...</td>\n",
       "      <td>...</td>\n",
       "    </tr>\n",
       "    <tr>\n",
       "      <th>73640</th>\n",
       "      <td>59477668</td>\n",
       "      <td>secondary</td>\n",
       "      <td>2019-07-16 22:38:08.000</td>\n",
       "      <td>2019-10-14 23:01:42.000</td>\n",
       "      <td>16.94080</td>\n",
       "      <td>52.38356</td>\n",
       "      <td>Poznań - Rataje idealny układ pomieszczeń.</td>\n",
       "      <td>&lt;p&gt;Drodzy Państwo,&lt;/p&gt;\\r\\n&lt;p&gt;Zapraszam do zapo...</td>\n",
       "      <td>price&lt;=&gt;price&lt;br&gt;price&lt;=&gt;347000&lt;br&gt;price[curre...</td>\n",
       "      <td>347000.0</td>\n",
       "      <td>3</td>\n",
       "      <td>47.00</td>\n",
       "      <td>7382.98</td>\n",
       "      <td>16.955818</td>\n",
       "      <td>52.389898</td>\n",
       "    </tr>\n",
       "    <tr>\n",
       "      <th>73641</th>\n",
       "      <td>59479003</td>\n",
       "      <td>secondary</td>\n",
       "      <td>2019-07-17 11:18:30.000</td>\n",
       "      <td>2019-08-07 14:22:54.000</td>\n",
       "      <td>16.94080</td>\n",
       "      <td>52.38356</td>\n",
       "      <td>2 pokojowe z balkonem RATAJE os. Piastowskie</td>\n",
       "      <td>&lt;p&gt;Polecam na sprzedaż mieszkanie 2 pokojowe u...</td>\n",
       "      <td>price&lt;=&gt;price&lt;br&gt;price&lt;=&gt;299000&lt;br&gt;price[curre...</td>\n",
       "      <td>299000.0</td>\n",
       "      <td>2</td>\n",
       "      <td>43.70</td>\n",
       "      <td>6842.11</td>\n",
       "      <td>16.947615</td>\n",
       "      <td>52.392968</td>\n",
       "    </tr>\n",
       "    <tr>\n",
       "      <th>73642</th>\n",
       "      <td>59474988</td>\n",
       "      <td>secondary</td>\n",
       "      <td>2019-07-16 13:40:35.000</td>\n",
       "      <td>2019-07-23 00:30:42.000</td>\n",
       "      <td>16.90590</td>\n",
       "      <td>52.36596</td>\n",
       "      <td>Inwestycyjne 2 niezależne pokoje, do wykończenia.</td>\n",
       "      <td>&lt;p&gt;Na sprzedaż przestronne mieszkanie położone...</td>\n",
       "      <td>price&lt;=&gt;price&lt;br&gt;price&lt;=&gt;270000&lt;br&gt;price[curre...</td>\n",
       "      <td>270000.0</td>\n",
       "      <td>2</td>\n",
       "      <td>45.32</td>\n",
       "      <td>5957.63</td>\n",
       "      <td>16.904862</td>\n",
       "      <td>52.369679</td>\n",
       "    </tr>\n",
       "    <tr>\n",
       "      <th>73643</th>\n",
       "      <td>59428272</td>\n",
       "      <td>secondary</td>\n",
       "      <td>2019-07-03 20:50:27.000</td>\n",
       "      <td>2022-06-17 17:14:34.000</td>\n",
       "      <td>16.94080</td>\n",
       "      <td>52.38356</td>\n",
       "      <td>Przestronna kawalerka z dużym tarasem Chartowo...</td>\n",
       "      <td>&lt;p&gt;Kontakt w sprawie oferty - Katarzyna Piotro...</td>\n",
       "      <td>price&lt;=&gt;price&lt;br&gt;price&lt;=&gt;229000&lt;br&gt;price[curre...</td>\n",
       "      <td>229000.0</td>\n",
       "      <td>1</td>\n",
       "      <td>36.30</td>\n",
       "      <td>6308.54</td>\n",
       "      <td>16.980725</td>\n",
       "      <td>52.389168</td>\n",
       "    </tr>\n",
       "    <tr>\n",
       "      <th>73644</th>\n",
       "      <td>59437422</td>\n",
       "      <td>secondary</td>\n",
       "      <td>2019-07-05 23:17:45.000</td>\n",
       "      <td>2019-08-04 23:24:06.000</td>\n",
       "      <td>16.93625</td>\n",
       "      <td>52.42658</td>\n",
       "      <td>Sprzedam 3 pokojowe mieszkanie, Poznań - Winog...</td>\n",
       "      <td>&lt;p&gt;Sprzedam 3 pokojowe zadbane mieszkanie usyt...</td>\n",
       "      <td>price&lt;=&gt;price&lt;br&gt;price&lt;=&gt;399000&lt;br&gt;price[curre...</td>\n",
       "      <td>399000.0</td>\n",
       "      <td>3</td>\n",
       "      <td>67.00</td>\n",
       "      <td>5955.22</td>\n",
       "      <td>16.935134</td>\n",
       "      <td>52.435895</td>\n",
       "    </tr>\n",
       "  </tbody>\n",
       "</table>\n",
       "<p>73645 rows × 15 columns</p>\n",
       "</div>"
      ],
      "text/plain": [
       "             id     market         created_at_first               updated_at  \\\n",
       "0      58668640  secondary  2019-04-09 16:12:54.000  2019-04-15 18:54:38.000   \n",
       "1      58887800  secondary  2019-04-25 17:20:01.000  2019-05-27 11:36:14.000   \n",
       "2      55129916  secondary  2018-08-02 16:40:35.000  2021-11-28 01:56:53.000   \n",
       "3      60011531  secondary  2019-12-05 12:45:49.000  2020-01-15 16:05:42.000   \n",
       "4      60096194  secondary  2020-01-10 14:53:19.000  2020-02-13 15:25:07.000   \n",
       "...         ...        ...                      ...                      ...   \n",
       "73640  59477668  secondary  2019-07-16 22:38:08.000  2019-10-14 23:01:42.000   \n",
       "73641  59479003  secondary  2019-07-17 11:18:30.000  2019-08-07 14:22:54.000   \n",
       "73642  59474988  secondary  2019-07-16 13:40:35.000  2019-07-23 00:30:42.000   \n",
       "73643  59428272  secondary  2019-07-03 20:50:27.000  2022-06-17 17:14:34.000   \n",
       "73644  59437422  secondary  2019-07-05 23:17:45.000  2019-08-04 23:24:06.000   \n",
       "\n",
       "       district_lon  district_lat  \\\n",
       "0          16.90502      52.41180   \n",
       "1          16.87466      52.41572   \n",
       "2          16.90502      52.41180   \n",
       "3          16.87466      52.41572   \n",
       "4          16.87466      52.41572   \n",
       "...             ...           ...   \n",
       "73640      16.94080      52.38356   \n",
       "73641      16.94080      52.38356   \n",
       "73642      16.90590      52.36596   \n",
       "73643      16.94080      52.38356   \n",
       "73644      16.93625      52.42658   \n",
       "\n",
       "                                                   title  \\\n",
       "0               Mieszkanie z potencjałem. Rynek Jeżycki.   \n",
       "1                                     Okazja Jeżyce!!!!!   \n",
       "2      **Okazja * 60,1m2 * 3 pokoje * poddasze * Jeży...   \n",
       "3              Mieszkanie 2-pokojowe, Ogrody, Kampus Uam   \n",
       "4                                        Jeżyce 2 pokoje   \n",
       "...                                                  ...   \n",
       "73640         Poznań - Rataje idealny układ pomieszczeń.   \n",
       "73641       2 pokojowe z balkonem RATAJE os. Piastowskie   \n",
       "73642  Inwestycyjne 2 niezależne pokoje, do wykończenia.   \n",
       "73643  Przestronna kawalerka z dużym tarasem Chartowo...   \n",
       "73644  Sprzedam 3 pokojowe mieszkanie, Poznań - Winog...   \n",
       "\n",
       "                                             description  \\\n",
       "0      <p>Zapraszam do zakupu mieszkania zlokalizowan...   \n",
       "1      <p>Polecam na sprzedaż mieszkanie kawalerka o ...   \n",
       "2      <p>  **Przestronne mieszkanie 3 pokojowe * na ...   \n",
       "3      <p>Serdecznie zapraszam do zapoznania się z of...   \n",
       "4      <p>Polecam na sprzedaż mieszkanie z komórka lo...   \n",
       "...                                                  ...   \n",
       "73640  <p>Drodzy Państwo,</p>\\r\\n<p>Zapraszam do zapo...   \n",
       "73641  <p>Polecam na sprzedaż mieszkanie 2 pokojowe u...   \n",
       "73642  <p>Na sprzedaż przestronne mieszkanie położone...   \n",
       "73643  <p>Kontakt w sprawie oferty - Katarzyna Piotro...   \n",
       "73644  <p>Sprzedam 3 pokojowe zadbane mieszkanie usyt...   \n",
       "\n",
       "                                                  params     price no_rooms  \\\n",
       "0      price<=>price<br>price<=>260000<br>price[curre...  260000.0        2   \n",
       "1      price<=>price<br>price<=>155000<br>price[curre...  155000.0        1   \n",
       "2      price<=>price<br>price<=>280000<br>price[curre...  280000.0        3   \n",
       "3      price<=>price<br>price<=>339000<br>price[curre...  339000.0        2   \n",
       "4      price<=>price<br>price<=>325000<br>price[curre...  325000.0        2   \n",
       "...                                                  ...       ...      ...   \n",
       "73640  price<=>price<br>price<=>347000<br>price[curre...  347000.0        3   \n",
       "73641  price<=>price<br>price<=>299000<br>price[curre...  299000.0        2   \n",
       "73642  price<=>price<br>price<=>270000<br>price[curre...  270000.0        2   \n",
       "73643  price<=>price<br>price<=>229000<br>price[curre...  229000.0        1   \n",
       "73644  price<=>price<br>price<=>399000<br>price[curre...  399000.0        3   \n",
       "\n",
       "           m  price_per_m    map_lon    map_lat  \n",
       "0      51.00      5098.04  16.896592  52.410150  \n",
       "1      26.00      5961.54  16.904410  52.411919  \n",
       "2      60.10      4658.90  16.899310  52.413357  \n",
       "3      47.00      7212.77  16.883608  52.410662  \n",
       "4      44.00      7386.36  16.890796  52.412308  \n",
       "...      ...          ...        ...        ...  \n",
       "73640  47.00      7382.98  16.955818  52.389898  \n",
       "73641  43.70      6842.11  16.947615  52.392968  \n",
       "73642  45.32      5957.63  16.904862  52.369679  \n",
       "73643  36.30      6308.54  16.980725  52.389168  \n",
       "73644  67.00      5955.22  16.935134  52.435895  \n",
       "\n",
       "[73645 rows x 15 columns]"
      ]
     },
     "execution_count": 2,
     "metadata": {},
     "output_type": "execute_result"
    }
   ],
   "source": [
    "df = pd.read_csv('../data/real_estate_ads_2022_10.csv')\n",
    "df"
   ]
  },
  {
   "cell_type": "markdown",
   "metadata": {},
   "source": [
    "## Plot correlation matrix between variables"
   ]
  },
  {
   "cell_type": "code",
   "execution_count": 3,
   "metadata": {},
   "outputs": [
    {
     "data": {
      "image/png": "[encoded data removed]",
      "text/plain": [
       "<Figure size 800x600 with 2 Axes>"
      ]
     },
     "metadata": {},
     "output_type": "display_data"
    }
   ],
   "source": [
    "corr_matrix = df.corr(numeric_only=True)\n",
    "\n",
    "plt.figure(figsize=(8, 6))\n",
    "plt.matshow(corr_matrix, fignum=1)\n",
    "plt.colorbar()\n",
    "plt.xticks(range(len(corr_matrix.columns)), corr_matrix.columns, rotation=45)\n",
    "plt.yticks(range(len(corr_matrix.columns)), corr_matrix.columns)\n",
    "plt.title('Correlation Matrix', pad=20)\n",
    "plt.show()"
   ]
  },
  {
   "cell_type": "markdown",
   "metadata": {},
   "source": [
    "## See the types of the variables"
   ]
  },
  {
   "cell_type": "code",
   "execution_count": 10,
   "metadata": {},
   "outputs": [
    {
     "data": {
      "text/plain": [
       "id                    int64\n",
       "market               object\n",
       "created_at_first     object\n",
       "updated_at           object\n",
       "district_lon        float64\n",
       "district_lat        float64\n",
       "title                object\n",
       "description          object\n",
       "params               object\n",
       "price               float64\n",
       "no_rooms             object\n",
       "m                   float64\n",
       "price_per_m         float64\n",
       "map_lon             float64\n",
       "map_lat             float64\n",
       "dtype: object"
      ]
     },
     "execution_count": 10,
     "metadata": {},
     "output_type": "execute_result"
    }
   ],
   "source": [
    "df.dtypes"
   ]
  },
  {
   "cell_type": "markdown",
   "metadata": {},
   "source": [
    "We will need to transform the \"object\" types with some heuristics (one-hot, ... This will be studied in the extract_features notebooks, and implemented in the src/data_preprocessing.py class)"
   ]
  },
  {
   "cell_type": "markdown",
   "metadata": {},
   "source": [
    "## Dropping some features\n",
    "For training a model, it is clear that we should delete the IDs, as well as \"prices\", since \"price_per_m\" can be trivially computed by \"m\" and \"price\",creating a data leakeage."
   ]
  },
  {
   "cell_type": "code",
   "execution_count": null,
   "metadata": {},
   "outputs": [],
   "source": [
    "X = df.drop(columns=['price', 'price_per_m', 'id'])\n",
    "Y = df[['price_per_m']]\n",
    "\n",
    "df = pd.concat([X, Y], axis=1)"
   ]
  },
  {
   "cell_type": "markdown",
   "metadata": {},
   "source": [
    "## Studying the label distribution"
   ]
  },
  {
   "cell_type": "code",
   "execution_count": null,
   "metadata": {},
   "outputs": [
    {
     "data": {
      "image/png": "[encoded data removed]",
      "text/plain": [
       "<Figure size 640x480 with 1 Axes>"
      ]
     },
     "metadata": {},
     "output_type": "display_data"
    }
   ],
   "source": [
    "Y.hist()\n",
    "plt.show()\n",
    "\n",
    "Y.to_csv(\"y.csv\")"
   ]
  },
  {
   "cell_type": "code",
   "execution_count": null,
   "metadata": {},
   "outputs": [
    {
     "data": {
      "image/png": "[encoded data removed]",
      "text/plain": [
       "<Figure size 1000x600 with 1 Axes>"
      ]
     },
     "metadata": {},
     "output_type": "display_data"
    }
   ],
   "source": [
    "plt.figure(figsize=(10, 6))\n",
    "plt.boxplot(Y['price_per_m'])\n",
    "plt.title('Boxplot of price_per_m')\n",
    "plt.ylabel('price_per_m')\n",
    "plt.show()"
   ]
  },
  {
   "cell_type": "code",
   "execution_count": null,
   "metadata": {},
   "outputs": [
    {
     "data": {
      "text/plain": [
       "price_per_m    0\n",
       "dtype: int64"
      ]
     },
     "execution_count": 18,
     "metadata": {},
     "output_type": "execute_result"
    }
   ],
   "source": [
    "# Check for missing values\n",
    "missing_values = Y.isnull().sum()\n",
    "missing_values"
   ]
  },
  {
   "cell_type": "code",
   "execution_count": null,
   "metadata": {},
   "outputs": [
    {
     "data": {
      "text/html": [
       "<div>\n",
       "<style scoped>\n",
       "    .dataframe tbody tr th:only-of-type {\n",
       "        vertical-align: middle;\n",
       "    }\n",
       "\n",
       "    .dataframe tbody tr th {\n",
       "        vertical-align: top;\n",
       "    }\n",
       "\n",
       "    .dataframe thead th {\n",
       "        text-align: right;\n",
       "    }\n",
       "</style>\n",
       "<table border=\"1\" class=\"dataframe\">\n",
       "  <thead>\n",
       "    <tr style=\"text-align: right;\">\n",
       "      <th></th>\n",
       "      <th>price_per_m</th>\n",
       "    </tr>\n",
       "  </thead>\n",
       "  <tbody>\n",
       "    <tr>\n",
       "      <th>count</th>\n",
       "      <td>7.364500e+04</td>\n",
       "    </tr>\n",
       "    <tr>\n",
       "      <th>mean</th>\n",
       "      <td>8.232007e+03</td>\n",
       "    </tr>\n",
       "    <tr>\n",
       "      <th>std</th>\n",
       "      <td>5.267824e+03</td>\n",
       "    </tr>\n",
       "    <tr>\n",
       "      <th>min</th>\n",
       "      <td>1.000000e-02</td>\n",
       "    </tr>\n",
       "    <tr>\n",
       "      <th>25%</th>\n",
       "      <td>6.950000e+03</td>\n",
       "    </tr>\n",
       "    <tr>\n",
       "      <th>50%</th>\n",
       "      <td>7.903230e+03</td>\n",
       "    </tr>\n",
       "    <tr>\n",
       "      <th>75%</th>\n",
       "      <td>9.153750e+03</td>\n",
       "    </tr>\n",
       "    <tr>\n",
       "      <th>max</th>\n",
       "      <td>1.012400e+06</td>\n",
       "    </tr>\n",
       "  </tbody>\n",
       "</table>\n",
       "</div>"
      ],
      "text/plain": [
       "        price_per_m\n",
       "count  7.364500e+04\n",
       "mean   8.232007e+03\n",
       "std    5.267824e+03\n",
       "min    1.000000e-02\n",
       "25%    6.950000e+03\n",
       "50%    7.903230e+03\n",
       "75%    9.153750e+03\n",
       "max    1.012400e+06"
      ]
     },
     "execution_count": 20,
     "metadata": {},
     "output_type": "execute_result"
    }
   ],
   "source": [
    "# Calculate descriptive statistics\n",
    "descriptive_stats = Y.describe()\n",
    "descriptive_stats"
   ]
  },
  {
   "cell_type": "code",
   "execution_count": null,
   "metadata": {},
   "outputs": [
    {
     "data": {
      "text/html": [
       "<div>\n",
       "<style scoped>\n",
       "    .dataframe tbody tr th:only-of-type {\n",
       "        vertical-align: middle;\n",
       "    }\n",
       "\n",
       "    .dataframe tbody tr th {\n",
       "        vertical-align: top;\n",
       "    }\n",
       "\n",
       "    .dataframe thead th {\n",
       "        text-align: right;\n",
       "    }\n",
       "</style>\n",
       "<table border=\"1\" class=\"dataframe\">\n",
       "  <thead>\n",
       "    <tr style=\"text-align: right;\">\n",
       "      <th></th>\n",
       "      <th>price_per_m</th>\n",
       "    </tr>\n",
       "  </thead>\n",
       "  <tbody>\n",
       "    <tr>\n",
       "      <th>30</th>\n",
       "      <td>14433.10</td>\n",
       "    </tr>\n",
       "    <tr>\n",
       "      <th>34</th>\n",
       "      <td>14028.12</td>\n",
       "    </tr>\n",
       "    <tr>\n",
       "      <th>35</th>\n",
       "      <td>16363.64</td>\n",
       "    </tr>\n",
       "    <tr>\n",
       "      <th>132</th>\n",
       "      <td>14727.50</td>\n",
       "    </tr>\n",
       "    <tr>\n",
       "      <th>161</th>\n",
       "      <td>705.88</td>\n",
       "    </tr>\n",
       "    <tr>\n",
       "      <th>...</th>\n",
       "      <td>...</td>\n",
       "    </tr>\n",
       "    <tr>\n",
       "      <th>73443</th>\n",
       "      <td>12500.00</td>\n",
       "    </tr>\n",
       "    <tr>\n",
       "      <th>73470</th>\n",
       "      <td>15000.00</td>\n",
       "    </tr>\n",
       "    <tr>\n",
       "      <th>73493</th>\n",
       "      <td>14157.90</td>\n",
       "    </tr>\n",
       "    <tr>\n",
       "      <th>73534</th>\n",
       "      <td>2738.10</td>\n",
       "    </tr>\n",
       "    <tr>\n",
       "      <th>73609</th>\n",
       "      <td>14157.90</td>\n",
       "    </tr>\n",
       "  </tbody>\n",
       "</table>\n",
       "<p>3189 rows × 1 columns</p>\n",
       "</div>"
      ],
      "text/plain": [
       "       price_per_m\n",
       "30        14433.10\n",
       "34        14028.12\n",
       "35        16363.64\n",
       "132       14727.50\n",
       "161         705.88\n",
       "...            ...\n",
       "73443     12500.00\n",
       "73470     15000.00\n",
       "73493     14157.90\n",
       "73534      2738.10\n",
       "73609     14157.90\n",
       "\n",
       "[3189 rows x 1 columns]"
      ]
     },
     "execution_count": 22,
     "metadata": {},
     "output_type": "execute_result"
    }
   ],
   "source": [
    "# Identify outliers using the IQR method\n",
    "Q1 = Y.quantile(0.25)\n",
    "Q3 = Y.quantile(0.75)\n",
    "IQR = Q3 - Q1\n",
    "outliers = Y[((Y < (Q1 - 1.5 * IQR)) | (Y> (Q3 + 1.5 * IQR))).any(axis=1)]\n",
    "outliers"
   ]
  },
  {
   "cell_type": "code",
   "execution_count": null,
   "metadata": {},
   "outputs": [
    {
     "data": {
      "text/plain": [
       "0.04330232873922194"
      ]
     },
     "execution_count": 23,
     "metadata": {},
     "output_type": "execute_result"
    }
   ],
   "source": [
    "len(outliers) / len(Y)"
   ]
  },
  {
   "cell_type": "markdown",
   "metadata": {},
   "source": [
    "## Log-transform the price_per_m feature"
   ]
  },
  {
   "cell_type": "code",
   "execution_count": null,
   "metadata": {},
   "outputs": [
    {
     "name": "stdout",
     "output_type": "stream",
     "text": [
      "Skewness of original data: 144.72949296257303\n",
      "Skewness of log-transformed data: -15.870393338591466\n"
     ]
    },
    {
     "name": "stderr",
     "output_type": "stream",
     "text": [
      "C:\\Users\\sergi\\AppData\\Local\\Temp\\ipykernel_149388\\3352538793.py:9: SettingWithCopyWarning: \n",
      "A value is trying to be set on a copy of a slice from a DataFrame.\n",
      "Try using .loc[row_indexer,col_indexer] = value instead\n",
      "\n",
      "See the caveats in the documentation: https://pandas.pydata.org/pandas-docs/stable/user_guide/indexing.html#returning-a-view-versus-a-copy\n",
      "  Y[\"log_price_per_m\"] = Y['price_per_m'].apply(lambda x: np.log(x))\n"
     ]
    }
   ],
   "source": [
    "from scipy.stats import skew\n",
    "import numpy as np\n",
    "\n",
    "# Calculate skewness of the original data\n",
    "original_skewness = skew(Y['price_per_m'])\n",
    "print(f\"Skewness of original data: {original_skewness}\")\n",
    "\n",
    "# Calculate skewness of the log-transformed data\n",
    "Y[\"log_price_per_m\"] = Y['price_per_m'].apply(lambda x: np.log(x))\n",
    "log_skewness = skew(Y['log_price_per_m'])\n",
    "print(f\"Skewness of log-transformed data: {log_skewness}\")"
   ]
  },
  {
   "cell_type": "code",
   "execution_count": null,
   "metadata": {},
   "outputs": [
    {
     "data": {
      "image/png": "[encoded data removed]",
      "text/plain": [
       "<Figure size 640x480 with 1 Axes>"
      ]
     },
     "metadata": {},
     "output_type": "display_data"
    },
    {
     "data": {
      "image/png": "[encoded data removed]",
      "text/plain": [
       "<Figure size 1000x600 with 1 Axes>"
      ]
     },
     "metadata": {},
     "output_type": "display_data"
    }
   ],
   "source": [
    "Y['log_price_per_m'].hist()\n",
    "plt.show()\n",
    "\n",
    "plt.figure(figsize=(10, 6))\n",
    "plt.boxplot(Y['log_price_per_m'])\n",
    "plt.title('Boxplot of log_price_per_m')\n",
    "plt.ylabel('log_price_per_m')\n",
    "plt.show()"
   ]
  },
  {
   "cell_type": "markdown",
   "metadata": {},
   "source": [
    "## Try out more transformations"
   ]
  },
  {
   "cell_type": "code",
   "execution_count": null,
   "metadata": {},
   "outputs": [
    {
     "data": {
      "text/plain": [
       "(8.35283082539883, -0.7515693597937954, 4.159837766201554, 4.159837350969974)"
      ]
     },
     "execution_count": 40,
     "metadata": {},
     "output_type": "execute_result"
    }
   ],
   "source": [
    "from scipy.stats import boxcox, skew\n",
    "from sklearn.preprocessing import PowerTransformer\n",
    "import numpy as np\n",
    "\n",
    "# Applying Square Root Transformation\n",
    "Y.loc[:, 'sqrt_price_per_m'] = Y['price_per_m'].apply(lambda x: np.sqrt(x) if x > 0 else 0)\n",
    "\n",
    "# Applying Cube Root Transformation\n",
    "Y.loc[:, 'cbrt_price_per_m'] = Y['price_per_m'].apply(lambda x: np.cbrt(x) if x > 0 else 0)\n",
    "\n",
    "# Applying Box-Cox Transformation\n",
    "Y.loc[:, 'boxcox_price_per_m'], _ = boxcox(Y['price_per_m'] + 1)  # Adding 1 to avoid log(0) issues\n",
    "\n",
    "# Applying Yeo-Johnson Transformation\n",
    "pt = PowerTransformer(method='yeo-johnson')\n",
    "Y.loc[:, 'yeo_price_per_m'] = pt.fit_transform(Y[['price_per_m']])\n",
    "\n",
    "# Recalculate skewness for all transformations\n",
    "sqrt_skewness = skew(Y['sqrt_price_per_m'])\n",
    "cbrt_skewness = skew(Y['cbrt_price_per_m'])\n",
    "boxcox_skewness = skew(Y['boxcox_price_per_m'])\n",
    "yeo_skewness = skew(Y['yeo_price_per_m'])\n",
    "\n",
    "sqrt_skewness, cbrt_skewness, boxcox_skewness, yeo_skewness\n"
   ]
  },
  {
   "cell_type": "markdown",
   "metadata": {},
   "source": [
    "The best candidate seems to be a cubic transformation"
   ]
  },
  {
   "cell_type": "code",
   "execution_count": null,
   "metadata": {},
   "outputs": [
    {
     "data": {
      "image/png": "[encoded data removed]",
      "text/plain": [
       "<Figure size 640x480 with 1 Axes>"
      ]
     },
     "metadata": {},
     "output_type": "display_data"
    },
    {
     "data": {
      "image/png": "[encoded data removed]",
      "text/plain": [
       "<Figure size 1000x600 with 1 Axes>"
      ]
     },
     "metadata": {},
     "output_type": "display_data"
    }
   ],
   "source": [
    "Y['cbrt_price_per_m'].hist()\n",
    "plt.show()\n",
    "\n",
    "plt.figure(figsize=(10, 6))\n",
    "plt.boxplot(Y['cbrt_price_per_m'])\n",
    "plt.title('Boxplot of cbrt_price_per_m')\n",
    "plt.ylabel('cbrt_price_per_m')\n",
    "plt.show()"
   ]
  },
  {
   "cell_type": "markdown",
   "metadata": {},
   "source": [
    "## Standard scale the data"
   ]
  },
  {
   "cell_type": "code",
   "execution_count": null,
   "metadata": {},
   "outputs": [],
   "source": [
    "from sklearn.preprocessing import StandardScaler\n",
    "import pickle as pkl\n",
    "\n",
    "scaler = StandardScaler()\n",
    "Y.loc[:,'standardized_cbrt_price_per_m'] = scaler.fit_transform(Y[['cbrt_price_per_m']])\n",
    "\n",
    "with open('../data/standard_scaler_cbrt_price_per_m.pkl', 'wb') as file:\n",
    "    pkl.dump(scaler, file)"
   ]
  },
  {
   "cell_type": "code",
   "execution_count": null,
   "metadata": {},
   "outputs": [
    {
     "data": {
      "text/plain": [
       "<Axes: >"
      ]
     },
     "execution_count": 49,
     "metadata": {},
     "output_type": "execute_result"
    },
    {
     "data": {
      "image/png": "[encoded data removed]",
      "text/plain": [
       "<Figure size 640x480 with 1 Axes>"
      ]
     },
     "metadata": {},
     "output_type": "display_data"
    }
   ],
   "source": [
    "Y[\"standardized_cbrt_price_per_m\"].hist()"
   ]
  },
  {
   "cell_type": "markdown",
   "metadata": {},
   "source": [
    "## Define an inverse transformation"
   ]
  },
  {
   "cell_type": "code",
   "execution_count": null,
   "metadata": {},
   "outputs": [],
   "source": [
    "def inverse_transform(data):\n",
    "\n",
    "    inverse_scale = scaler.inverse_transform(data)\n",
    "    inverse_cbrt = np.power(inverse_scale, 3)\n",
    "\n",
    "    return inverse_cbrt\n"
   ]
  },
  {
   "cell_type": "code",
   "execution_count": null,
   "metadata": {},
   "outputs": [],
   "source": [
    "inverse_tr = inverse_transform(Y[['standardized_cbrt_price_per_m']])\n",
    "df['inverse_tr'] = inverse_tr"
   ]
  },
  {
   "cell_type": "code",
   "execution_count": null,
   "metadata": {},
   "outputs": [
    {
     "data": {
      "text/html": [
       "<div>\n",
       "<style scoped>\n",
       "    .dataframe tbody tr th:only-of-type {\n",
       "        vertical-align: middle;\n",
       "    }\n",
       "\n",
       "    .dataframe tbody tr th {\n",
       "        vertical-align: top;\n",
       "    }\n",
       "\n",
       "    .dataframe thead th {\n",
       "        text-align: right;\n",
       "    }\n",
       "</style>\n",
       "<table border=\"1\" class=\"dataframe\">\n",
       "  <thead>\n",
       "    <tr style=\"text-align: right;\">\n",
       "      <th></th>\n",
       "      <th>inverse_tr</th>\n",
       "      <th>price_per_m</th>\n",
       "    </tr>\n",
       "  </thead>\n",
       "  <tbody>\n",
       "    <tr>\n",
       "      <th>0</th>\n",
       "      <td>5098.04</td>\n",
       "      <td>5098.04</td>\n",
       "    </tr>\n",
       "    <tr>\n",
       "      <th>1</th>\n",
       "      <td>5961.54</td>\n",
       "      <td>5961.54</td>\n",
       "    </tr>\n",
       "    <tr>\n",
       "      <th>2</th>\n",
       "      <td>4658.90</td>\n",
       "      <td>4658.90</td>\n",
       "    </tr>\n",
       "    <tr>\n",
       "      <th>3</th>\n",
       "      <td>7212.77</td>\n",
       "      <td>7212.77</td>\n",
       "    </tr>\n",
       "    <tr>\n",
       "      <th>4</th>\n",
       "      <td>7386.36</td>\n",
       "      <td>7386.36</td>\n",
       "    </tr>\n",
       "    <tr>\n",
       "      <th>...</th>\n",
       "      <td>...</td>\n",
       "      <td>...</td>\n",
       "    </tr>\n",
       "    <tr>\n",
       "      <th>73640</th>\n",
       "      <td>7382.98</td>\n",
       "      <td>7382.98</td>\n",
       "    </tr>\n",
       "    <tr>\n",
       "      <th>73641</th>\n",
       "      <td>6842.11</td>\n",
       "      <td>6842.11</td>\n",
       "    </tr>\n",
       "    <tr>\n",
       "      <th>73642</th>\n",
       "      <td>5957.63</td>\n",
       "      <td>5957.63</td>\n",
       "    </tr>\n",
       "    <tr>\n",
       "      <th>73643</th>\n",
       "      <td>6308.54</td>\n",
       "      <td>6308.54</td>\n",
       "    </tr>\n",
       "    <tr>\n",
       "      <th>73644</th>\n",
       "      <td>5955.22</td>\n",
       "      <td>5955.22</td>\n",
       "    </tr>\n",
       "  </tbody>\n",
       "</table>\n",
       "<p>73645 rows × 2 columns</p>\n",
       "</div>"
      ],
      "text/plain": [
       "       inverse_tr  price_per_m\n",
       "0         5098.04      5098.04\n",
       "1         5961.54      5961.54\n",
       "2         4658.90      4658.90\n",
       "3         7212.77      7212.77\n",
       "4         7386.36      7386.36\n",
       "...           ...          ...\n",
       "73640     7382.98      7382.98\n",
       "73641     6842.11      6842.11\n",
       "73642     5957.63      5957.63\n",
       "73643     6308.54      6308.54\n",
       "73644     5955.22      5955.22\n",
       "\n",
       "[73645 rows x 2 columns]"
      ]
     },
     "execution_count": 59,
     "metadata": {},
     "output_type": "execute_result"
    }
   ],
   "source": [
    "df[[\"inverse_tr\", \"price_per_m\"]]"
   ]
  }
 ],
 "metadata": {
  "kernelspec": {
   "display_name": "olx",
   "language": "python",
   "name": "python3"
  },
  "language_info": {
   "codemirror_mode": {
    "name": "ipython",
    "version": 3
   },
   "file_extension": ".py",
   "mimetype": "text/x-python",
   "name": "python",
   "nbconvert_exporter": "python",
   "pygments_lexer": "ipython3",
   "version": "3.12.4"
  }
 },
 "nbformat": 4,
 "nbformat_minor": 2
}
